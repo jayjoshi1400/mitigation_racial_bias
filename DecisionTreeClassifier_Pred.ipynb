{
 "cells": [
  {
   "cell_type": "code",
   "execution_count": 13,
   "id": "a23e5ebf-31da-4eae-9575-71f6e3653bfe",
   "metadata": {},
   "outputs": [],
   "source": [
    "import pandas as pd\n",
    "import numpy as np\n",
    "from sklearn.decomposition import PCA\n",
    "from sklearn.tree import DecisionTreeClassifier\n",
    "# import shap\n",
    "from sklearn.model_selection import train_test_split\n",
    "from sklearn.preprocessing import StandardScaler\n",
    "from sklearn.metrics import accuracy_score"
   ]
  },
  {
   "cell_type": "code",
   "execution_count": 14,
   "id": "ca7c0d32-a0f0-4401-9f2b-0a5012937cac",
   "metadata": {},
   "outputs": [],
   "source": [
    "df = pd.read_csv(\"cox-violent-parsed.csv\")"
   ]
  },
  {
   "cell_type": "code",
   "execution_count": 15,
   "id": "7458da9f-d985-4de6-8239-efe99ffe5ff2",
   "metadata": {},
   "outputs": [],
   "source": [
    "data = pd.read_csv(\"cox-violent-parsed.csv\")\n",
    "\n",
    "X = data[[\"age\", \"juv_fel_count\", \"juv_misd_count\", \"juv_other_count\", \"priors_count\"]]\n",
    "y = data[\"event\"]\n",
    "# data = data[data[\"race\"] == \"African-American\"]\n",
    "data = data[((data[\"score_text\"] == \"high\") | (data[\"score_text\"] == \"medium\"))]\n",
    "# data = data[(data[\"decile_score\"] == \"low\")]\n",
    "X_train, X_test, y_train, y_test = train_test_split(X, y, test_size=0.2, random_state=42)"
   ]
  },
  {
   "cell_type": "code",
   "execution_count": 16,
   "id": "68c7d5e5-a9a9-4140-8048-f223a991ac0b",
   "metadata": {},
   "outputs": [],
   "source": [
    "# 3. Perform PCA for feature selection\n",
    "scaler = StandardScaler()\n",
    "X_train = scaler.fit_transform(X_train)\n",
    "X_test = scaler.transform(X_test)\n",
    "\n",
    "# Perform PCA for feature selection\n",
    "pca = PCA(n_components=4)\n",
    "X_train = pca.fit_transform(X_train)\n",
    "X_test = pca.transform(X_test)"
   ]
  },
  {
   "cell_type": "code",
   "execution_count": 17,
   "id": "0afb3d60-2c4a-46a2-9171-b3c2eb623676",
   "metadata": {},
   "outputs": [
    {
     "data": {
      "text/html": [
       "<style>#sk-container-id-2 {color: black;background-color: white;}#sk-container-id-2 pre{padding: 0;}#sk-container-id-2 div.sk-toggleable {background-color: white;}#sk-container-id-2 label.sk-toggleable__label {cursor: pointer;display: block;width: 100%;margin-bottom: 0;padding: 0.3em;box-sizing: border-box;text-align: center;}#sk-container-id-2 label.sk-toggleable__label-arrow:before {content: \"▸\";float: left;margin-right: 0.25em;color: #696969;}#sk-container-id-2 label.sk-toggleable__label-arrow:hover:before {color: black;}#sk-container-id-2 div.sk-estimator:hover label.sk-toggleable__label-arrow:before {color: black;}#sk-container-id-2 div.sk-toggleable__content {max-height: 0;max-width: 0;overflow: hidden;text-align: left;background-color: #f0f8ff;}#sk-container-id-2 div.sk-toggleable__content pre {margin: 0.2em;color: black;border-radius: 0.25em;background-color: #f0f8ff;}#sk-container-id-2 input.sk-toggleable__control:checked~div.sk-toggleable__content {max-height: 200px;max-width: 100%;overflow: auto;}#sk-container-id-2 input.sk-toggleable__control:checked~label.sk-toggleable__label-arrow:before {content: \"▾\";}#sk-container-id-2 div.sk-estimator input.sk-toggleable__control:checked~label.sk-toggleable__label {background-color: #d4ebff;}#sk-container-id-2 div.sk-label input.sk-toggleable__control:checked~label.sk-toggleable__label {background-color: #d4ebff;}#sk-container-id-2 input.sk-hidden--visually {border: 0;clip: rect(1px 1px 1px 1px);clip: rect(1px, 1px, 1px, 1px);height: 1px;margin: -1px;overflow: hidden;padding: 0;position: absolute;width: 1px;}#sk-container-id-2 div.sk-estimator {font-family: monospace;background-color: #f0f8ff;border: 1px dotted black;border-radius: 0.25em;box-sizing: border-box;margin-bottom: 0.5em;}#sk-container-id-2 div.sk-estimator:hover {background-color: #d4ebff;}#sk-container-id-2 div.sk-parallel-item::after {content: \"\";width: 100%;border-bottom: 1px solid gray;flex-grow: 1;}#sk-container-id-2 div.sk-label:hover label.sk-toggleable__label {background-color: #d4ebff;}#sk-container-id-2 div.sk-serial::before {content: \"\";position: absolute;border-left: 1px solid gray;box-sizing: border-box;top: 0;bottom: 0;left: 50%;z-index: 0;}#sk-container-id-2 div.sk-serial {display: flex;flex-direction: column;align-items: center;background-color: white;padding-right: 0.2em;padding-left: 0.2em;position: relative;}#sk-container-id-2 div.sk-item {position: relative;z-index: 1;}#sk-container-id-2 div.sk-parallel {display: flex;align-items: stretch;justify-content: center;background-color: white;position: relative;}#sk-container-id-2 div.sk-item::before, #sk-container-id-2 div.sk-parallel-item::before {content: \"\";position: absolute;border-left: 1px solid gray;box-sizing: border-box;top: 0;bottom: 0;left: 50%;z-index: -1;}#sk-container-id-2 div.sk-parallel-item {display: flex;flex-direction: column;z-index: 1;position: relative;background-color: white;}#sk-container-id-2 div.sk-parallel-item:first-child::after {align-self: flex-end;width: 50%;}#sk-container-id-2 div.sk-parallel-item:last-child::after {align-self: flex-start;width: 50%;}#sk-container-id-2 div.sk-parallel-item:only-child::after {width: 0;}#sk-container-id-2 div.sk-dashed-wrapped {border: 1px dashed gray;margin: 0 0.4em 0.5em 0.4em;box-sizing: border-box;padding-bottom: 0.4em;background-color: white;}#sk-container-id-2 div.sk-label label {font-family: monospace;font-weight: bold;display: inline-block;line-height: 1.2em;}#sk-container-id-2 div.sk-label-container {text-align: center;}#sk-container-id-2 div.sk-container {/* jupyter's `normalize.less` sets `[hidden] { display: none; }` but bootstrap.min.css set `[hidden] { display: none !important; }` so we also need the `!important` here to be able to override the default hidden behavior on the sphinx rendered scikit-learn.org. See: https://github.com/scikit-learn/scikit-learn/issues/21755 */display: inline-block !important;position: relative;}#sk-container-id-2 div.sk-text-repr-fallback {display: none;}</style><div id=\"sk-container-id-2\" class=\"sk-top-container\"><div class=\"sk-text-repr-fallback\"><pre>DecisionTreeClassifier()</pre><b>In a Jupyter environment, please rerun this cell to show the HTML representation or trust the notebook. <br />On GitHub, the HTML representation is unable to render, please try loading this page with nbviewer.org.</b></div><div class=\"sk-container\" hidden><div class=\"sk-item\"><div class=\"sk-estimator sk-toggleable\"><input class=\"sk-toggleable__control sk-hidden--visually\" id=\"sk-estimator-id-2\" type=\"checkbox\" checked><label for=\"sk-estimator-id-2\" class=\"sk-toggleable__label sk-toggleable__label-arrow\">DecisionTreeClassifier</label><div class=\"sk-toggleable__content\"><pre>DecisionTreeClassifier()</pre></div></div></div></div></div>"
      ],
      "text/plain": [
       "DecisionTreeClassifier()"
      ]
     },
     "execution_count": 17,
     "metadata": {},
     "output_type": "execute_result"
    }
   ],
   "source": [
    "# 4. Implement Naive Bayes model\n",
    "model = DecisionTreeClassifier()\n",
    "model.fit(X_train, y_train)  # Assuming \"decile_score\" is the target variable"
   ]
  },
  {
   "cell_type": "code",
   "execution_count": 18,
   "id": "8108caf4-24a7-4d5c-a385-659db7bec98c",
   "metadata": {},
   "outputs": [
    {
     "name": "stderr",
     "output_type": "stream",
     "text": [
      "C:\\Users\\jayjo\\AppData\\Local\\Temp\\ipykernel_2124\\1123559696.py:11: SettingWithCopyWarning: \n",
      "A value is trying to be set on a copy of a slice from a DataFrame\n",
      "\n",
      "See the caveats in the documentation: https://pandas.pydata.org/pandas-docs/stable/user_guide/indexing.html#returning-a-view-versus-a-copy\n",
      "  if full_data['decile_score'][i] > 4: full_data['prediction'][i] = 1\n"
     ]
    }
   ],
   "source": [
    "# 5. Use SHAP for model analysis\n",
    "# explainer = shap.Explainer(model)\n",
    "# shap_values = explainer(data_pca)\n",
    "\n",
    "# 6. Generate predictions and analyze bias\n",
    "y_pred = model.predict(X_test)\n",
    "full_data =  pd.read_csv(\"cox-violent-parsed.csv\")\n",
    "\n",
    "full_data['prediction'] = 0\n",
    "for i in range(len(full_data[\"decile_score\"])):\n",
    "    if full_data['decile_score'][i] > 4: full_data['prediction'][i] = 1\n",
    "    \n",
    "# Analyze model bias using SHAP values\n",
    "# shap.summary_plot(shap_values, data_pca)\n",
    "# shap.dependence_plot(\"race\", shap_values, data_pca)  # Focus on \"race\" feature"
   ]
  },
  {
   "cell_type": "code",
   "execution_count": 19,
   "id": "df1ca826-5a32-45b4-a0e6-d7f5815ecdf6",
   "metadata": {},
   "outputs": [
    {
     "name": "stdout",
     "output_type": "stream",
     "text": [
      "Accuracy: 0.951146288209607\n"
     ]
    }
   ],
   "source": [
    "print(\"Accuracy:\", accuracy_score(y_test, y_pred))"
   ]
  },
  {
   "cell_type": "code",
   "execution_count": 21,
   "id": "b210a303-4a99-458e-9d6d-9f7023b2be07",
   "metadata": {},
   "outputs": [
    {
     "name": "stderr",
     "output_type": "stream",
     "text": [
      "C:\\Users\\jayjo\\AppData\\Local\\Temp\\ipykernel_2124\\615257637.py:28: SettingWithCopyWarning: \n",
      "A value is trying to be set on a copy of a slice from a DataFrame.\n",
      "Try using .loc[row_indexer,col_indexer] = value instead\n",
      "\n",
      "See the caveats in the documentation: https://pandas.pydata.org/pandas-docs/stable/user_guide/indexing.html#returning-a-view-versus-a-copy\n",
      "  full_data['prediction'] = np.where(full_data['decile_score'] > 4, 1, 0)\n",
      "C:\\Users\\jayjo\\AppData\\Local\\Temp\\ipykernel_2124\\615257637.py:28: SettingWithCopyWarning: \n",
      "A value is trying to be set on a copy of a slice from a DataFrame.\n",
      "Try using .loc[row_indexer,col_indexer] = value instead\n",
      "\n",
      "See the caveats in the documentation: https://pandas.pydata.org/pandas-docs/stable/user_guide/indexing.html#returning-a-view-versus-a-copy\n",
      "  full_data['prediction'] = np.where(full_data['decile_score'] > 4, 1, 0)\n",
      "C:\\Users\\jayjo\\AppData\\Local\\Temp\\ipykernel_2124\\615257637.py:28: SettingWithCopyWarning: \n",
      "A value is trying to be set on a copy of a slice from a DataFrame.\n",
      "Try using .loc[row_indexer,col_indexer] = value instead\n",
      "\n",
      "See the caveats in the documentation: https://pandas.pydata.org/pandas-docs/stable/user_guide/indexing.html#returning-a-view-versus-a-copy\n",
      "  full_data['prediction'] = np.where(full_data['decile_score'] > 4, 1, 0)\n",
      "C:\\Users\\jayjo\\AppData\\Local\\Temp\\ipykernel_2124\\615257637.py:28: SettingWithCopyWarning: \n",
      "A value is trying to be set on a copy of a slice from a DataFrame.\n",
      "Try using .loc[row_indexer,col_indexer] = value instead\n",
      "\n",
      "See the caveats in the documentation: https://pandas.pydata.org/pandas-docs/stable/user_guide/indexing.html#returning-a-view-versus-a-copy\n",
      "  full_data['prediction'] = np.where(full_data['decile_score'] > 4, 1, 0)\n",
      "C:\\Users\\jayjo\\AppData\\Local\\Temp\\ipykernel_2124\\615257637.py:28: SettingWithCopyWarning: \n",
      "A value is trying to be set on a copy of a slice from a DataFrame.\n",
      "Try using .loc[row_indexer,col_indexer] = value instead\n",
      "\n",
      "See the caveats in the documentation: https://pandas.pydata.org/pandas-docs/stable/user_guide/indexing.html#returning-a-view-versus-a-copy\n",
      "  full_data['prediction'] = np.where(full_data['decile_score'] > 4, 1, 0)\n",
      "C:\\Users\\jayjo\\AppData\\Local\\Temp\\ipykernel_2124\\615257637.py:28: SettingWithCopyWarning: \n",
      "A value is trying to be set on a copy of a slice from a DataFrame.\n",
      "Try using .loc[row_indexer,col_indexer] = value instead\n",
      "\n",
      "See the caveats in the documentation: https://pandas.pydata.org/pandas-docs/stable/user_guide/indexing.html#returning-a-view-versus-a-copy\n",
      "  full_data['prediction'] = np.where(full_data['decile_score'] > 4, 1, 0)\n"
     ]
    },
    {
     "data": {
      "image/png": "[encoded data removed]",
      "text/plain": [
       "<Figure size 640x480 with 1 Axes>"
      ]
     },
     "metadata": {},
     "output_type": "display_data"
    }
   ],
   "source": [
    "# Import pandas and matplotlib libraries\n",
    "import pandas as pd\n",
    "import matplotlib.pyplot as plt\n",
    "\n",
    "# Read the csv file into a dataframe\n",
    "df = pd.read_csv(\"cox-violent-parsed.csv\")\n",
    "\n",
    "# Filter out entries with no indication of recidivism or no compass score\n",
    "df = df[df['is_recid'] != -1]\n",
    "df = df[df['decile_score'] != -1]\n",
    "\n",
    "# Rename recidivism column\n",
    "df['recidivism_within_2_years'] = df['is_recid']\n",
    "\n",
    "# Create a list of races\n",
    "races = df['race'].unique()\n",
    "\n",
    "# Create an empty list to store the percentages of filtered data for each race\n",
    "percentages = []\n",
    "percentages1 = []\n",
    "\n",
    "# Loop through each race\n",
    "for race in races:\n",
    "    # Select the data for the current race\n",
    "    full_data = df[df['race'] == race]\n",
    "    \n",
    "    # Generate the prediction column based on the decile score\n",
    "    full_data['prediction'] = np.where(full_data['decile_score'] > 4, 1, 0)\n",
    "    \n",
    "    # Create a mask to filter out the false positives\n",
    "    mask = (full_data['prediction'] == 1) & (full_data['event'] == 0) & (full_data['decile_score'] > 4)\n",
    "    \n",
    "    # Apply the mask to the dataframe\n",
    "    filtered_data = full_data[mask]\n",
    "    \n",
    "    # Calculate the percentage of filtered data and append it to the list\n",
    "    percentage = filtered_data.size / full_data.size * 100\n",
    "    percentages.append(percentage)\n",
    "\n",
    "    X = full_data[[\"age\", \"juv_fel_count\", \"juv_misd_count\", \"juv_other_count\", \"priors_count\"]]\n",
    "    y = full_data[\"event\"]\n",
    "    # data = data[data[\"race\"] == \"African-American\"]\n",
    "    full_data = full_data[((full_data[\"score_text\"] == \"high\") | (full_data[\"score_text\"] == \"medium\"))]\n",
    "    # data = data[(data[\"decile_score\"] == \"low\")]\n",
    "    X_train, X_test, y_train, y_test = train_test_split(X, y, test_size=0.2, random_state=42)\n",
    "    \n",
    "    scaler = StandardScaler()\n",
    "    X_train = scaler.fit_transform(X_train)\n",
    "    X_test = scaler.transform(X_test)\n",
    "    \n",
    "    # Perform PCA for feature selection\n",
    "    pca = PCA(n_components=4)\n",
    "    X_train = pca.fit_transform(X_train)\n",
    "    X_test = pca.transform(X_test)\n",
    "\n",
    "    model = DecisionTreeClassifier()\n",
    "    model.fit(X_train, y_train)\n",
    "    y_pred = model.predict(X_test)\n",
    "\n",
    "    percentage1 = accuracy_score(y_test, y_pred) * 100\n",
    "    percentages1.append(percentage1)\n",
    "\n",
    "\n",
    "# Create a figure and an axis\n",
    "fig, ax = plt.subplots()\n",
    "\n",
    "# Set the title and the labels\n",
    "ax.set_title(\"Decision Trees: Previous Missclassified vs Current\")\n",
    "ax.set_xlabel(\"Race\")\n",
    "ax.set_ylabel(\"Percentage\")\n",
    "\n",
    "# Create a list of x positions for each race\n",
    "x_pos = range(len(races))\n",
    "\n",
    "# Plot the filtered data in red and the full data in blue as adjacent bars\n",
    "ax.bar(x_pos, percentages, color=\"#DB4B0F\", label=\"Previous Missclassified\", width=0.2)\n",
    "ax.bar([x + 0.2 for x in x_pos], [100] * len(races), color=\"#00B5DB\", label=\"Total\", width=0.2)\n",
    "ax.bar([x + 0.4 for x in x_pos], percentages1, color=\"#DBC40B\", label=\"Our prediction\", width=0.2)\n",
    "\n",
    "# Set the x ticks and labels\n",
    "ax.set_xticks([x + 0.2 for x in x_pos])\n",
    "ax.set_xticklabels(races)\n",
    "\n",
    "# Add a legend\n",
    "ax.legend()\n",
    "\n",
    "# Show the graph\n",
    "plt.show()"
   ]
  }
 ],
 "metadata": {
  "kernelspec": {
   "display_name": "Python 3 (ipykernel)",
   "language": "python",
   "name": "python3"
  },
  "language_info": {
   "codemirror_mode": {
    "name": "ipython",
    "version": 3
   },
   "file_extension": ".py",
   "mimetype": "text/x-python",
   "name": "python",
   "nbconvert_exporter": "python",
   "pygments_lexer": "ipython3",
   "version": "3.9.10"
  }
 },
 "nbformat": 4,
 "nbformat_minor": 5
}
